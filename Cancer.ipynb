{
  "nbformat": 4,
  "nbformat_minor": 0,
  "metadata": {
    "colab": {
      "provenance": [],
      "authorship_tag": "ABX9TyOedsIGtEaSMXbptuRYnU92",
      "include_colab_link": true
    },
    "kernelspec": {
      "name": "python3",
      "display_name": "Python 3"
    },
    "language_info": {
      "name": "python"
    }
  },
  "cells": [
    {
      "cell_type": "markdown",
      "metadata": {
        "id": "view-in-github",
        "colab_type": "text"
      },
      "source": [
        "<a href=\"https://colab.research.google.com/github/atakanerdogn/Health-Data-Projects/blob/main/Cancer.ipynb\" target=\"_parent\"><img src=\"https://colab.research.google.com/assets/colab-badge.svg\" alt=\"Open In Colab\"/></a>"
      ]
    },
    {
      "cell_type": "code",
      "execution_count": 1,
      "metadata": {
        "id": "mnvawPKDYoR2"
      },
      "outputs": [],
      "source": [
        "import pandas as pd\n",
        "import numpy as np\n",
        "import matplotlib.pyplot as plt\n",
        "import seaborn as sns\n",
        "import warnings\n",
        "warnings.filterwarnings('ignore')"
      ]
    },
    {
      "cell_type": "code",
      "source": [
        "can = pd.read_csv('/content/The_Cancer_data_1500_V2 (1).csv')\n",
        "can.head()"
      ],
      "metadata": {
        "colab": {
          "base_uri": "https://localhost:8080/",
          "height": 226
        },
        "id": "9bDSaMwvY2ph",
        "outputId": "d73f447e-1270-4130-a924-8ea95461939d"
      },
      "execution_count": 2,
      "outputs": [
        {
          "output_type": "execute_result",
          "data": {
            "text/plain": [
              "   Age  Gender        BMI  Smoking  GeneticRisk  PhysicalActivity  \\\n",
              "0   58       1  16.085313        0            1          8.146251   \n",
              "1   71       0  30.828784        0            1          9.361630   \n",
              "2   48       1  38.785084        0            2          5.135179   \n",
              "3   34       0  30.040296        0            0          9.502792   \n",
              "4   62       1  35.479721        0            0          5.356890   \n",
              "\n",
              "   AlcoholIntake  CancerHistory  Diagnosis  \n",
              "0       4.148219              1          1  \n",
              "1       3.519683              0          0  \n",
              "2       4.728368              0          1  \n",
              "3       2.044636              0          0  \n",
              "4       3.309849              0          1  "
            ],
            "text/html": [
              "\n",
              "  <div id=\"df-1ce6bfc0-ec94-4744-9ca0-5404f48aff46\" class=\"colab-df-container\">\n",
              "    <div>\n",
              "<style scoped>\n",
              "    .dataframe tbody tr th:only-of-type {\n",
              "        vertical-align: middle;\n",
              "    }\n",
              "\n",
              "    .dataframe tbody tr th {\n",
              "        vertical-align: top;\n",
              "    }\n",
              "\n",
              "    .dataframe thead th {\n",
              "        text-align: right;\n",
              "    }\n",
              "</style>\n",
              "<table border=\"1\" class=\"dataframe\">\n",
              "  <thead>\n",
              "    <tr style=\"text-align: right;\">\n",
              "      <th></th>\n",
              "      <th>Age</th>\n",
              "      <th>Gender</th>\n",
              "      <th>BMI</th>\n",
              "      <th>Smoking</th>\n",
              "      <th>GeneticRisk</th>\n",
              "      <th>PhysicalActivity</th>\n",
              "      <th>AlcoholIntake</th>\n",
              "      <th>CancerHistory</th>\n",
              "      <th>Diagnosis</th>\n",
              "    </tr>\n",
              "  </thead>\n",
              "  <tbody>\n",
              "    <tr>\n",
              "      <th>0</th>\n",
              "      <td>58</td>\n",
              "      <td>1</td>\n",
              "      <td>16.085313</td>\n",
              "      <td>0</td>\n",
              "      <td>1</td>\n",
              "      <td>8.146251</td>\n",
              "      <td>4.148219</td>\n",
              "      <td>1</td>\n",
              "      <td>1</td>\n",
              "    </tr>\n",
              "    <tr>\n",
              "      <th>1</th>\n",
              "      <td>71</td>\n",
              "      <td>0</td>\n",
              "      <td>30.828784</td>\n",
              "      <td>0</td>\n",
              "      <td>1</td>\n",
              "      <td>9.361630</td>\n",
              "      <td>3.519683</td>\n",
              "      <td>0</td>\n",
              "      <td>0</td>\n",
              "    </tr>\n",
              "    <tr>\n",
              "      <th>2</th>\n",
              "      <td>48</td>\n",
              "      <td>1</td>\n",
              "      <td>38.785084</td>\n",
              "      <td>0</td>\n",
              "      <td>2</td>\n",
              "      <td>5.135179</td>\n",
              "      <td>4.728368</td>\n",
              "      <td>0</td>\n",
              "      <td>1</td>\n",
              "    </tr>\n",
              "    <tr>\n",
              "      <th>3</th>\n",
              "      <td>34</td>\n",
              "      <td>0</td>\n",
              "      <td>30.040296</td>\n",
              "      <td>0</td>\n",
              "      <td>0</td>\n",
              "      <td>9.502792</td>\n",
              "      <td>2.044636</td>\n",
              "      <td>0</td>\n",
              "      <td>0</td>\n",
              "    </tr>\n",
              "    <tr>\n",
              "      <th>4</th>\n",
              "      <td>62</td>\n",
              "      <td>1</td>\n",
              "      <td>35.479721</td>\n",
              "      <td>0</td>\n",
              "      <td>0</td>\n",
              "      <td>5.356890</td>\n",
              "      <td>3.309849</td>\n",
              "      <td>0</td>\n",
              "      <td>1</td>\n",
              "    </tr>\n",
              "  </tbody>\n",
              "</table>\n",
              "</div>\n",
              "    <div class=\"colab-df-buttons\">\n",
              "\n",
              "  <div class=\"colab-df-container\">\n",
              "    <button class=\"colab-df-convert\" onclick=\"convertToInteractive('df-1ce6bfc0-ec94-4744-9ca0-5404f48aff46')\"\n",
              "            title=\"Convert this dataframe to an interactive table.\"\n",
              "            style=\"display:none;\">\n",
              "\n",
              "  <svg xmlns=\"http://www.w3.org/2000/svg\" height=\"24px\" viewBox=\"0 -960 960 960\">\n",
              "    <path d=\"M120-120v-720h720v720H120Zm60-500h600v-160H180v160Zm220 220h160v-160H400v160Zm0 220h160v-160H400v160ZM180-400h160v-160H180v160Zm440 0h160v-160H620v160ZM180-180h160v-160H180v160Zm440 0h160v-160H620v160Z\"/>\n",
              "  </svg>\n",
              "    </button>\n",
              "\n",
              "  <style>\n",
              "    .colab-df-container {\n",
              "      display:flex;\n",
              "      gap: 12px;\n",
              "    }\n",
              "\n",
              "    .colab-df-convert {\n",
              "      background-color: #E8F0FE;\n",
              "      border: none;\n",
              "      border-radius: 50%;\n",
              "      cursor: pointer;\n",
              "      display: none;\n",
              "      fill: #1967D2;\n",
              "      height: 32px;\n",
              "      padding: 0 0 0 0;\n",
              "      width: 32px;\n",
              "    }\n",
              "\n",
              "    .colab-df-convert:hover {\n",
              "      background-color: #E2EBFA;\n",
              "      box-shadow: 0px 1px 2px rgba(60, 64, 67, 0.3), 0px 1px 3px 1px rgba(60, 64, 67, 0.15);\n",
              "      fill: #174EA6;\n",
              "    }\n",
              "\n",
              "    .colab-df-buttons div {\n",
              "      margin-bottom: 4px;\n",
              "    }\n",
              "\n",
              "    [theme=dark] .colab-df-convert {\n",
              "      background-color: #3B4455;\n",
              "      fill: #D2E3FC;\n",
              "    }\n",
              "\n",
              "    [theme=dark] .colab-df-convert:hover {\n",
              "      background-color: #434B5C;\n",
              "      box-shadow: 0px 1px 3px 1px rgba(0, 0, 0, 0.15);\n",
              "      filter: drop-shadow(0px 1px 2px rgba(0, 0, 0, 0.3));\n",
              "      fill: #FFFFFF;\n",
              "    }\n",
              "  </style>\n",
              "\n",
              "    <script>\n",
              "      const buttonEl =\n",
              "        document.querySelector('#df-1ce6bfc0-ec94-4744-9ca0-5404f48aff46 button.colab-df-convert');\n",
              "      buttonEl.style.display =\n",
              "        google.colab.kernel.accessAllowed ? 'block' : 'none';\n",
              "\n",
              "      async function convertToInteractive(key) {\n",
              "        const element = document.querySelector('#df-1ce6bfc0-ec94-4744-9ca0-5404f48aff46');\n",
              "        const dataTable =\n",
              "          await google.colab.kernel.invokeFunction('convertToInteractive',\n",
              "                                                    [key], {});\n",
              "        if (!dataTable) return;\n",
              "\n",
              "        const docLinkHtml = 'Like what you see? Visit the ' +\n",
              "          '<a target=\"_blank\" href=https://colab.research.google.com/notebooks/data_table.ipynb>data table notebook</a>'\n",
              "          + ' to learn more about interactive tables.';\n",
              "        element.innerHTML = '';\n",
              "        dataTable['output_type'] = 'display_data';\n",
              "        await google.colab.output.renderOutput(dataTable, element);\n",
              "        const docLink = document.createElement('div');\n",
              "        docLink.innerHTML = docLinkHtml;\n",
              "        element.appendChild(docLink);\n",
              "      }\n",
              "    </script>\n",
              "  </div>\n",
              "\n",
              "\n",
              "<div id=\"df-fecab390-a4d9-48d9-ba48-b3f8b9e99350\">\n",
              "  <button class=\"colab-df-quickchart\" onclick=\"quickchart('df-fecab390-a4d9-48d9-ba48-b3f8b9e99350')\"\n",
              "            title=\"Suggest charts\"\n",
              "            style=\"display:none;\">\n",
              "\n",
              "<svg xmlns=\"http://www.w3.org/2000/svg\" height=\"24px\"viewBox=\"0 0 24 24\"\n",
              "     width=\"24px\">\n",
              "    <g>\n",
              "        <path d=\"M19 3H5c-1.1 0-2 .9-2 2v14c0 1.1.9 2 2 2h14c1.1 0 2-.9 2-2V5c0-1.1-.9-2-2-2zM9 17H7v-7h2v7zm4 0h-2V7h2v10zm4 0h-2v-4h2v4z\"/>\n",
              "    </g>\n",
              "</svg>\n",
              "  </button>\n",
              "\n",
              "<style>\n",
              "  .colab-df-quickchart {\n",
              "      --bg-color: #E8F0FE;\n",
              "      --fill-color: #1967D2;\n",
              "      --hover-bg-color: #E2EBFA;\n",
              "      --hover-fill-color: #174EA6;\n",
              "      --disabled-fill-color: #AAA;\n",
              "      --disabled-bg-color: #DDD;\n",
              "  }\n",
              "\n",
              "  [theme=dark] .colab-df-quickchart {\n",
              "      --bg-color: #3B4455;\n",
              "      --fill-color: #D2E3FC;\n",
              "      --hover-bg-color: #434B5C;\n",
              "      --hover-fill-color: #FFFFFF;\n",
              "      --disabled-bg-color: #3B4455;\n",
              "      --disabled-fill-color: #666;\n",
              "  }\n",
              "\n",
              "  .colab-df-quickchart {\n",
              "    background-color: var(--bg-color);\n",
              "    border: none;\n",
              "    border-radius: 50%;\n",
              "    cursor: pointer;\n",
              "    display: none;\n",
              "    fill: var(--fill-color);\n",
              "    height: 32px;\n",
              "    padding: 0;\n",
              "    width: 32px;\n",
              "  }\n",
              "\n",
              "  .colab-df-quickchart:hover {\n",
              "    background-color: var(--hover-bg-color);\n",
              "    box-shadow: 0 1px 2px rgba(60, 64, 67, 0.3), 0 1px 3px 1px rgba(60, 64, 67, 0.15);\n",
              "    fill: var(--button-hover-fill-color);\n",
              "  }\n",
              "\n",
              "  .colab-df-quickchart-complete:disabled,\n",
              "  .colab-df-quickchart-complete:disabled:hover {\n",
              "    background-color: var(--disabled-bg-color);\n",
              "    fill: var(--disabled-fill-color);\n",
              "    box-shadow: none;\n",
              "  }\n",
              "\n",
              "  .colab-df-spinner {\n",
              "    border: 2px solid var(--fill-color);\n",
              "    border-color: transparent;\n",
              "    border-bottom-color: var(--fill-color);\n",
              "    animation:\n",
              "      spin 1s steps(1) infinite;\n",
              "  }\n",
              "\n",
              "  @keyframes spin {\n",
              "    0% {\n",
              "      border-color: transparent;\n",
              "      border-bottom-color: var(--fill-color);\n",
              "      border-left-color: var(--fill-color);\n",
              "    }\n",
              "    20% {\n",
              "      border-color: transparent;\n",
              "      border-left-color: var(--fill-color);\n",
              "      border-top-color: var(--fill-color);\n",
              "    }\n",
              "    30% {\n",
              "      border-color: transparent;\n",
              "      border-left-color: var(--fill-color);\n",
              "      border-top-color: var(--fill-color);\n",
              "      border-right-color: var(--fill-color);\n",
              "    }\n",
              "    40% {\n",
              "      border-color: transparent;\n",
              "      border-right-color: var(--fill-color);\n",
              "      border-top-color: var(--fill-color);\n",
              "    }\n",
              "    60% {\n",
              "      border-color: transparent;\n",
              "      border-right-color: var(--fill-color);\n",
              "    }\n",
              "    80% {\n",
              "      border-color: transparent;\n",
              "      border-right-color: var(--fill-color);\n",
              "      border-bottom-color: var(--fill-color);\n",
              "    }\n",
              "    90% {\n",
              "      border-color: transparent;\n",
              "      border-bottom-color: var(--fill-color);\n",
              "    }\n",
              "  }\n",
              "</style>\n",
              "\n",
              "  <script>\n",
              "    async function quickchart(key) {\n",
              "      const quickchartButtonEl =\n",
              "        document.querySelector('#' + key + ' button');\n",
              "      quickchartButtonEl.disabled = true;  // To prevent multiple clicks.\n",
              "      quickchartButtonEl.classList.add('colab-df-spinner');\n",
              "      try {\n",
              "        const charts = await google.colab.kernel.invokeFunction(\n",
              "            'suggestCharts', [key], {});\n",
              "      } catch (error) {\n",
              "        console.error('Error during call to suggestCharts:', error);\n",
              "      }\n",
              "      quickchartButtonEl.classList.remove('colab-df-spinner');\n",
              "      quickchartButtonEl.classList.add('colab-df-quickchart-complete');\n",
              "    }\n",
              "    (() => {\n",
              "      let quickchartButtonEl =\n",
              "        document.querySelector('#df-fecab390-a4d9-48d9-ba48-b3f8b9e99350 button');\n",
              "      quickchartButtonEl.style.display =\n",
              "        google.colab.kernel.accessAllowed ? 'block' : 'none';\n",
              "    })();\n",
              "  </script>\n",
              "</div>\n",
              "\n",
              "    </div>\n",
              "  </div>\n"
            ],
            "application/vnd.google.colaboratory.intrinsic+json": {
              "type": "dataframe",
              "variable_name": "can",
              "summary": "{\n  \"name\": \"can\",\n  \"rows\": 1500,\n  \"fields\": [\n    {\n      \"column\": \"Age\",\n      \"properties\": {\n        \"dtype\": \"number\",\n        \"std\": 17,\n        \"min\": 20,\n        \"max\": 80,\n        \"num_unique_values\": 61,\n        \"samples\": [\n          58,\n          27,\n          36\n        ],\n        \"semantic_type\": \"\",\n        \"description\": \"\"\n      }\n    },\n    {\n      \"column\": \"Gender\",\n      \"properties\": {\n        \"dtype\": \"number\",\n        \"std\": 0,\n        \"min\": 0,\n        \"max\": 1,\n        \"num_unique_values\": 2,\n        \"samples\": [\n          0,\n          1\n        ],\n        \"semantic_type\": \"\",\n        \"description\": \"\"\n      }\n    },\n    {\n      \"column\": \"BMI\",\n      \"properties\": {\n        \"dtype\": \"number\",\n        \"std\": 7.230012046648454,\n        \"min\": 15.000290868884154,\n        \"max\": 39.95868778482374,\n        \"num_unique_values\": 1500,\n        \"samples\": [\n          30.193803056318064,\n          33.54740817396788\n        ],\n        \"semantic_type\": \"\",\n        \"description\": \"\"\n      }\n    },\n    {\n      \"column\": \"Smoking\",\n      \"properties\": {\n        \"dtype\": \"number\",\n        \"std\": 0,\n        \"min\": 0,\n        \"max\": 1,\n        \"num_unique_values\": 2,\n        \"samples\": [\n          1,\n          0\n        ],\n        \"semantic_type\": \"\",\n        \"description\": \"\"\n      }\n    },\n    {\n      \"column\": \"GeneticRisk\",\n      \"properties\": {\n        \"dtype\": \"number\",\n        \"std\": 0,\n        \"min\": 0,\n        \"max\": 2,\n        \"num_unique_values\": 3,\n        \"samples\": [\n          1,\n          2\n        ],\n        \"semantic_type\": \"\",\n        \"description\": \"\"\n      }\n    },\n    {\n      \"column\": \"PhysicalActivity\",\n      \"properties\": {\n        \"dtype\": \"number\",\n        \"std\": 2.866161989646643,\n        \"min\": 0.0024100468513454,\n        \"max\": 9.994606810596732,\n        \"num_unique_values\": 1500,\n        \"samples\": [\n          7.111218170152859,\n          3.0476091279732573\n        ],\n        \"semantic_type\": \"\",\n        \"description\": \"\"\n      }\n    },\n    {\n      \"column\": \"AlcoholIntake\",\n      \"properties\": {\n        \"dtype\": \"number\",\n        \"std\": 1.4193177721662096,\n        \"min\": 0.0012146721725636,\n        \"max\": 4.9871146952677705,\n        \"num_unique_values\": 1500,\n        \"samples\": [\n          2.770848608055001,\n          2.570403478096366\n        ],\n        \"semantic_type\": \"\",\n        \"description\": \"\"\n      }\n    },\n    {\n      \"column\": \"CancerHistory\",\n      \"properties\": {\n        \"dtype\": \"number\",\n        \"std\": 0,\n        \"min\": 0,\n        \"max\": 1,\n        \"num_unique_values\": 2,\n        \"samples\": [\n          0,\n          1\n        ],\n        \"semantic_type\": \"\",\n        \"description\": \"\"\n      }\n    },\n    {\n      \"column\": \"Diagnosis\",\n      \"properties\": {\n        \"dtype\": \"number\",\n        \"std\": 0,\n        \"min\": 0,\n        \"max\": 1,\n        \"num_unique_values\": 2,\n        \"samples\": [\n          0,\n          1\n        ],\n        \"semantic_type\": \"\",\n        \"description\": \"\"\n      }\n    }\n  ]\n}"
            }
          },
          "metadata": {},
          "execution_count": 2
        }
      ]
    },
    {
      "cell_type": "code",
      "source": [
        "can.info()"
      ],
      "metadata": {
        "colab": {
          "base_uri": "https://localhost:8080/"
        },
        "id": "VqrK1addZAEB",
        "outputId": "3f85a348-6c08-4120-8d58-ce508d686ec5"
      },
      "execution_count": 4,
      "outputs": [
        {
          "output_type": "stream",
          "name": "stdout",
          "text": [
            "<class 'pandas.core.frame.DataFrame'>\n",
            "RangeIndex: 1500 entries, 0 to 1499\n",
            "Data columns (total 9 columns):\n",
            " #   Column            Non-Null Count  Dtype  \n",
            "---  ------            --------------  -----  \n",
            " 0   Age               1500 non-null   int64  \n",
            " 1   Gender            1500 non-null   int64  \n",
            " 2   BMI               1500 non-null   float64\n",
            " 3   Smoking           1500 non-null   int64  \n",
            " 4   GeneticRisk       1500 non-null   int64  \n",
            " 5   PhysicalActivity  1500 non-null   float64\n",
            " 6   AlcoholIntake     1500 non-null   float64\n",
            " 7   CancerHistory     1500 non-null   int64  \n",
            " 8   Diagnosis         1500 non-null   int64  \n",
            "dtypes: float64(3), int64(6)\n",
            "memory usage: 105.6 KB\n"
          ]
        }
      ]
    },
    {
      "cell_type": "code",
      "source": [
        "can.describe()"
      ],
      "metadata": {
        "colab": {
          "base_uri": "https://localhost:8080/",
          "height": 320
        },
        "id": "wb_EnUhyZCoL",
        "outputId": "934c3f99-7b73-4bf0-fb07-387ab3e99804"
      },
      "execution_count": 5,
      "outputs": [
        {
          "output_type": "execute_result",
          "data": {
            "text/plain": [
              "               Age       Gender          BMI      Smoking  GeneticRisk  \\\n",
              "count  1500.000000  1500.000000  1500.000000  1500.000000  1500.000000   \n",
              "mean     50.320000     0.490667    27.513321     0.269333     0.508667   \n",
              "std      17.640968     0.500080     7.230012     0.443761     0.678895   \n",
              "min      20.000000     0.000000    15.000291     0.000000     0.000000   \n",
              "25%      35.000000     0.000000    21.483134     0.000000     0.000000   \n",
              "50%      51.000000     0.000000    27.598494     0.000000     0.000000   \n",
              "75%      66.000000     1.000000    33.850837     1.000000     1.000000   \n",
              "max      80.000000     1.000000    39.958688     1.000000     2.000000   \n",
              "\n",
              "       PhysicalActivity  AlcoholIntake  CancerHistory    Diagnosis  \n",
              "count       1500.000000    1500.000000    1500.000000  1500.000000  \n",
              "mean           4.897929       2.417987       0.144000     0.371333  \n",
              "std            2.866162       1.419318       0.351207     0.483322  \n",
              "min            0.002410       0.001215       0.000000     0.000000  \n",
              "25%            2.434609       1.210598       0.000000     0.000000  \n",
              "50%            4.834316       2.382971       0.000000     0.000000  \n",
              "75%            7.409896       3.585624       0.000000     1.000000  \n",
              "max            9.994607       4.987115       1.000000     1.000000  "
            ],
            "text/html": [
              "\n",
              "  <div id=\"df-ca83d337-c97c-4a4d-a1e6-c400613376c4\" class=\"colab-df-container\">\n",
              "    <div>\n",
              "<style scoped>\n",
              "    .dataframe tbody tr th:only-of-type {\n",
              "        vertical-align: middle;\n",
              "    }\n",
              "\n",
              "    .dataframe tbody tr th {\n",
              "        vertical-align: top;\n",
              "    }\n",
              "\n",
              "    .dataframe thead th {\n",
              "        text-align: right;\n",
              "    }\n",
              "</style>\n",
              "<table border=\"1\" class=\"dataframe\">\n",
              "  <thead>\n",
              "    <tr style=\"text-align: right;\">\n",
              "      <th></th>\n",
              "      <th>Age</th>\n",
              "      <th>Gender</th>\n",
              "      <th>BMI</th>\n",
              "      <th>Smoking</th>\n",
              "      <th>GeneticRisk</th>\n",
              "      <th>PhysicalActivity</th>\n",
              "      <th>AlcoholIntake</th>\n",
              "      <th>CancerHistory</th>\n",
              "      <th>Diagnosis</th>\n",
              "    </tr>\n",
              "  </thead>\n",
              "  <tbody>\n",
              "    <tr>\n",
              "      <th>count</th>\n",
              "      <td>1500.000000</td>\n",
              "      <td>1500.000000</td>\n",
              "      <td>1500.000000</td>\n",
              "      <td>1500.000000</td>\n",
              "      <td>1500.000000</td>\n",
              "      <td>1500.000000</td>\n",
              "      <td>1500.000000</td>\n",
              "      <td>1500.000000</td>\n",
              "      <td>1500.000000</td>\n",
              "    </tr>\n",
              "    <tr>\n",
              "      <th>mean</th>\n",
              "      <td>50.320000</td>\n",
              "      <td>0.490667</td>\n",
              "      <td>27.513321</td>\n",
              "      <td>0.269333</td>\n",
              "      <td>0.508667</td>\n",
              "      <td>4.897929</td>\n",
              "      <td>2.417987</td>\n",
              "      <td>0.144000</td>\n",
              "      <td>0.371333</td>\n",
              "    </tr>\n",
              "    <tr>\n",
              "      <th>std</th>\n",
              "      <td>17.640968</td>\n",
              "      <td>0.500080</td>\n",
              "      <td>7.230012</td>\n",
              "      <td>0.443761</td>\n",
              "      <td>0.678895</td>\n",
              "      <td>2.866162</td>\n",
              "      <td>1.419318</td>\n",
              "      <td>0.351207</td>\n",
              "      <td>0.483322</td>\n",
              "    </tr>\n",
              "    <tr>\n",
              "      <th>min</th>\n",
              "      <td>20.000000</td>\n",
              "      <td>0.000000</td>\n",
              "      <td>15.000291</td>\n",
              "      <td>0.000000</td>\n",
              "      <td>0.000000</td>\n",
              "      <td>0.002410</td>\n",
              "      <td>0.001215</td>\n",
              "      <td>0.000000</td>\n",
              "      <td>0.000000</td>\n",
              "    </tr>\n",
              "    <tr>\n",
              "      <th>25%</th>\n",
              "      <td>35.000000</td>\n",
              "      <td>0.000000</td>\n",
              "      <td>21.483134</td>\n",
              "      <td>0.000000</td>\n",
              "      <td>0.000000</td>\n",
              "      <td>2.434609</td>\n",
              "      <td>1.210598</td>\n",
              "      <td>0.000000</td>\n",
              "      <td>0.000000</td>\n",
              "    </tr>\n",
              "    <tr>\n",
              "      <th>50%</th>\n",
              "      <td>51.000000</td>\n",
              "      <td>0.000000</td>\n",
              "      <td>27.598494</td>\n",
              "      <td>0.000000</td>\n",
              "      <td>0.000000</td>\n",
              "      <td>4.834316</td>\n",
              "      <td>2.382971</td>\n",
              "      <td>0.000000</td>\n",
              "      <td>0.000000</td>\n",
              "    </tr>\n",
              "    <tr>\n",
              "      <th>75%</th>\n",
              "      <td>66.000000</td>\n",
              "      <td>1.000000</td>\n",
              "      <td>33.850837</td>\n",
              "      <td>1.000000</td>\n",
              "      <td>1.000000</td>\n",
              "      <td>7.409896</td>\n",
              "      <td>3.585624</td>\n",
              "      <td>0.000000</td>\n",
              "      <td>1.000000</td>\n",
              "    </tr>\n",
              "    <tr>\n",
              "      <th>max</th>\n",
              "      <td>80.000000</td>\n",
              "      <td>1.000000</td>\n",
              "      <td>39.958688</td>\n",
              "      <td>1.000000</td>\n",
              "      <td>2.000000</td>\n",
              "      <td>9.994607</td>\n",
              "      <td>4.987115</td>\n",
              "      <td>1.000000</td>\n",
              "      <td>1.000000</td>\n",
              "    </tr>\n",
              "  </tbody>\n",
              "</table>\n",
              "</div>\n",
              "    <div class=\"colab-df-buttons\">\n",
              "\n",
              "  <div class=\"colab-df-container\">\n",
              "    <button class=\"colab-df-convert\" onclick=\"convertToInteractive('df-ca83d337-c97c-4a4d-a1e6-c400613376c4')\"\n",
              "            title=\"Convert this dataframe to an interactive table.\"\n",
              "            style=\"display:none;\">\n",
              "\n",
              "  <svg xmlns=\"http://www.w3.org/2000/svg\" height=\"24px\" viewBox=\"0 -960 960 960\">\n",
              "    <path d=\"M120-120v-720h720v720H120Zm60-500h600v-160H180v160Zm220 220h160v-160H400v160Zm0 220h160v-160H400v160ZM180-400h160v-160H180v160Zm440 0h160v-160H620v160ZM180-180h160v-160H180v160Zm440 0h160v-160H620v160Z\"/>\n",
              "  </svg>\n",
              "    </button>\n",
              "\n",
              "  <style>\n",
              "    .colab-df-container {\n",
              "      display:flex;\n",
              "      gap: 12px;\n",
              "    }\n",
              "\n",
              "    .colab-df-convert {\n",
              "      background-color: #E8F0FE;\n",
              "      border: none;\n",
              "      border-radius: 50%;\n",
              "      cursor: pointer;\n",
              "      display: none;\n",
              "      fill: #1967D2;\n",
              "      height: 32px;\n",
              "      padding: 0 0 0 0;\n",
              "      width: 32px;\n",
              "    }\n",
              "\n",
              "    .colab-df-convert:hover {\n",
              "      background-color: #E2EBFA;\n",
              "      box-shadow: 0px 1px 2px rgba(60, 64, 67, 0.3), 0px 1px 3px 1px rgba(60, 64, 67, 0.15);\n",
              "      fill: #174EA6;\n",
              "    }\n",
              "\n",
              "    .colab-df-buttons div {\n",
              "      margin-bottom: 4px;\n",
              "    }\n",
              "\n",
              "    [theme=dark] .colab-df-convert {\n",
              "      background-color: #3B4455;\n",
              "      fill: #D2E3FC;\n",
              "    }\n",
              "\n",
              "    [theme=dark] .colab-df-convert:hover {\n",
              "      background-color: #434B5C;\n",
              "      box-shadow: 0px 1px 3px 1px rgba(0, 0, 0, 0.15);\n",
              "      filter: drop-shadow(0px 1px 2px rgba(0, 0, 0, 0.3));\n",
              "      fill: #FFFFFF;\n",
              "    }\n",
              "  </style>\n",
              "\n",
              "    <script>\n",
              "      const buttonEl =\n",
              "        document.querySelector('#df-ca83d337-c97c-4a4d-a1e6-c400613376c4 button.colab-df-convert');\n",
              "      buttonEl.style.display =\n",
              "        google.colab.kernel.accessAllowed ? 'block' : 'none';\n",
              "\n",
              "      async function convertToInteractive(key) {\n",
              "        const element = document.querySelector('#df-ca83d337-c97c-4a4d-a1e6-c400613376c4');\n",
              "        const dataTable =\n",
              "          await google.colab.kernel.invokeFunction('convertToInteractive',\n",
              "                                                    [key], {});\n",
              "        if (!dataTable) return;\n",
              "\n",
              "        const docLinkHtml = 'Like what you see? Visit the ' +\n",
              "          '<a target=\"_blank\" href=https://colab.research.google.com/notebooks/data_table.ipynb>data table notebook</a>'\n",
              "          + ' to learn more about interactive tables.';\n",
              "        element.innerHTML = '';\n",
              "        dataTable['output_type'] = 'display_data';\n",
              "        await google.colab.output.renderOutput(dataTable, element);\n",
              "        const docLink = document.createElement('div');\n",
              "        docLink.innerHTML = docLinkHtml;\n",
              "        element.appendChild(docLink);\n",
              "      }\n",
              "    </script>\n",
              "  </div>\n",
              "\n",
              "\n",
              "<div id=\"df-6030826c-e947-4c92-bdd3-fcded79de71e\">\n",
              "  <button class=\"colab-df-quickchart\" onclick=\"quickchart('df-6030826c-e947-4c92-bdd3-fcded79de71e')\"\n",
              "            title=\"Suggest charts\"\n",
              "            style=\"display:none;\">\n",
              "\n",
              "<svg xmlns=\"http://www.w3.org/2000/svg\" height=\"24px\"viewBox=\"0 0 24 24\"\n",
              "     width=\"24px\">\n",
              "    <g>\n",
              "        <path d=\"M19 3H5c-1.1 0-2 .9-2 2v14c0 1.1.9 2 2 2h14c1.1 0 2-.9 2-2V5c0-1.1-.9-2-2-2zM9 17H7v-7h2v7zm4 0h-2V7h2v10zm4 0h-2v-4h2v4z\"/>\n",
              "    </g>\n",
              "</svg>\n",
              "  </button>\n",
              "\n",
              "<style>\n",
              "  .colab-df-quickchart {\n",
              "      --bg-color: #E8F0FE;\n",
              "      --fill-color: #1967D2;\n",
              "      --hover-bg-color: #E2EBFA;\n",
              "      --hover-fill-color: #174EA6;\n",
              "      --disabled-fill-color: #AAA;\n",
              "      --disabled-bg-color: #DDD;\n",
              "  }\n",
              "\n",
              "  [theme=dark] .colab-df-quickchart {\n",
              "      --bg-color: #3B4455;\n",
              "      --fill-color: #D2E3FC;\n",
              "      --hover-bg-color: #434B5C;\n",
              "      --hover-fill-color: #FFFFFF;\n",
              "      --disabled-bg-color: #3B4455;\n",
              "      --disabled-fill-color: #666;\n",
              "  }\n",
              "\n",
              "  .colab-df-quickchart {\n",
              "    background-color: var(--bg-color);\n",
              "    border: none;\n",
              "    border-radius: 50%;\n",
              "    cursor: pointer;\n",
              "    display: none;\n",
              "    fill: var(--fill-color);\n",
              "    height: 32px;\n",
              "    padding: 0;\n",
              "    width: 32px;\n",
              "  }\n",
              "\n",
              "  .colab-df-quickchart:hover {\n",
              "    background-color: var(--hover-bg-color);\n",
              "    box-shadow: 0 1px 2px rgba(60, 64, 67, 0.3), 0 1px 3px 1px rgba(60, 64, 67, 0.15);\n",
              "    fill: var(--button-hover-fill-color);\n",
              "  }\n",
              "\n",
              "  .colab-df-quickchart-complete:disabled,\n",
              "  .colab-df-quickchart-complete:disabled:hover {\n",
              "    background-color: var(--disabled-bg-color);\n",
              "    fill: var(--disabled-fill-color);\n",
              "    box-shadow: none;\n",
              "  }\n",
              "\n",
              "  .colab-df-spinner {\n",
              "    border: 2px solid var(--fill-color);\n",
              "    border-color: transparent;\n",
              "    border-bottom-color: var(--fill-color);\n",
              "    animation:\n",
              "      spin 1s steps(1) infinite;\n",
              "  }\n",
              "\n",
              "  @keyframes spin {\n",
              "    0% {\n",
              "      border-color: transparent;\n",
              "      border-bottom-color: var(--fill-color);\n",
              "      border-left-color: var(--fill-color);\n",
              "    }\n",
              "    20% {\n",
              "      border-color: transparent;\n",
              "      border-left-color: var(--fill-color);\n",
              "      border-top-color: var(--fill-color);\n",
              "    }\n",
              "    30% {\n",
              "      border-color: transparent;\n",
              "      border-left-color: var(--fill-color);\n",
              "      border-top-color: var(--fill-color);\n",
              "      border-right-color: var(--fill-color);\n",
              "    }\n",
              "    40% {\n",
              "      border-color: transparent;\n",
              "      border-right-color: var(--fill-color);\n",
              "      border-top-color: var(--fill-color);\n",
              "    }\n",
              "    60% {\n",
              "      border-color: transparent;\n",
              "      border-right-color: var(--fill-color);\n",
              "    }\n",
              "    80% {\n",
              "      border-color: transparent;\n",
              "      border-right-color: var(--fill-color);\n",
              "      border-bottom-color: var(--fill-color);\n",
              "    }\n",
              "    90% {\n",
              "      border-color: transparent;\n",
              "      border-bottom-color: var(--fill-color);\n",
              "    }\n",
              "  }\n",
              "</style>\n",
              "\n",
              "  <script>\n",
              "    async function quickchart(key) {\n",
              "      const quickchartButtonEl =\n",
              "        document.querySelector('#' + key + ' button');\n",
              "      quickchartButtonEl.disabled = true;  // To prevent multiple clicks.\n",
              "      quickchartButtonEl.classList.add('colab-df-spinner');\n",
              "      try {\n",
              "        const charts = await google.colab.kernel.invokeFunction(\n",
              "            'suggestCharts', [key], {});\n",
              "      } catch (error) {\n",
              "        console.error('Error during call to suggestCharts:', error);\n",
              "      }\n",
              "      quickchartButtonEl.classList.remove('colab-df-spinner');\n",
              "      quickchartButtonEl.classList.add('colab-df-quickchart-complete');\n",
              "    }\n",
              "    (() => {\n",
              "      let quickchartButtonEl =\n",
              "        document.querySelector('#df-6030826c-e947-4c92-bdd3-fcded79de71e button');\n",
              "      quickchartButtonEl.style.display =\n",
              "        google.colab.kernel.accessAllowed ? 'block' : 'none';\n",
              "    })();\n",
              "  </script>\n",
              "</div>\n",
              "\n",
              "    </div>\n",
              "  </div>\n"
            ],
            "application/vnd.google.colaboratory.intrinsic+json": {
              "type": "dataframe",
              "summary": "{\n  \"name\": \"can\",\n  \"rows\": 8,\n  \"fields\": [\n    {\n      \"column\": \"Age\",\n      \"properties\": {\n        \"dtype\": \"number\",\n        \"std\": 514.614011484571,\n        \"min\": 17.64096754216961,\n        \"max\": 1500.0,\n        \"num_unique_values\": 8,\n        \"samples\": [\n          50.32,\n          51.0,\n          1500.0\n        ],\n        \"semantic_type\": \"\",\n        \"description\": \"\"\n      }\n    },\n    {\n      \"column\": \"Gender\",\n      \"properties\": {\n        \"dtype\": \"number\",\n        \"std\": 530.179193819292,\n        \"min\": 0.0,\n        \"max\": 1500.0,\n        \"num_unique_values\": 5,\n        \"samples\": [\n          0.49066666666666664,\n          1.0,\n          0.5000796022914561\n        ],\n        \"semantic_type\": \"\",\n        \"description\": \"\"\n      }\n    },\n    {\n      \"column\": \"BMI\",\n      \"properties\": {\n        \"dtype\": \"number\",\n        \"std\": 521.7123803999519,\n        \"min\": 7.230012046648454,\n        \"max\": 1500.0,\n        \"num_unique_values\": 8,\n        \"samples\": [\n          27.51332130571539,\n          27.598494363554558,\n          1500.0\n        ],\n        \"semantic_type\": \"\",\n        \"description\": \"\"\n      }\n    },\n    {\n      \"column\": \"Smoking\",\n      \"properties\": {\n        \"dtype\": \"number\",\n        \"std\": 530.1932179919772,\n        \"min\": 0.0,\n        \"max\": 1500.0,\n        \"num_unique_values\": 5,\n        \"samples\": [\n          0.2693333333333333,\n          1.0,\n          0.4437613904679003\n        ],\n        \"semantic_type\": \"\",\n        \"description\": \"\"\n      }\n    },\n    {\n      \"column\": \"GeneticRisk\",\n      \"properties\": {\n        \"dtype\": \"number\",\n        \"std\": 530.1190152012516,\n        \"min\": 0.0,\n        \"max\": 1500.0,\n        \"num_unique_values\": 6,\n        \"samples\": [\n          1500.0,\n          0.5086666666666667,\n          2.0\n        ],\n        \"semantic_type\": \"\",\n        \"description\": \"\"\n      }\n    },\n    {\n      \"column\": \"PhysicalActivity\",\n      \"properties\": {\n        \"dtype\": \"number\",\n        \"std\": 528.7005342383862,\n        \"min\": 0.0024100468513454,\n        \"max\": 1500.0,\n        \"num_unique_values\": 8,\n        \"samples\": [\n          4.8979290547061485,\n          4.834315708880495,\n          1500.0\n        ],\n        \"semantic_type\": \"\",\n        \"description\": \"\"\n      }\n    },\n    {\n      \"column\": \"AlcoholIntake\",\n      \"properties\": {\n        \"dtype\": \"number\",\n        \"std\": 529.5238971557227,\n        \"min\": 0.0012146721725636,\n        \"max\": 1500.0,\n        \"num_unique_values\": 8,\n        \"samples\": [\n          2.4179873457994914,\n          2.3829709997263975,\n          1500.0\n        ],\n        \"semantic_type\": \"\",\n        \"description\": \"\"\n      }\n    },\n    {\n      \"column\": \"CancerHistory\",\n      \"properties\": {\n        \"dtype\": \"number\",\n        \"std\": 530.2546776339897,\n        \"min\": 0.0,\n        \"max\": 1500.0,\n        \"num_unique_values\": 5,\n        \"samples\": [\n          0.144,\n          1.0,\n          0.3512068205780552\n        ],\n        \"semantic_type\": \"\",\n        \"description\": \"\"\n      }\n    },\n    {\n      \"column\": \"Diagnosis\",\n      \"properties\": {\n        \"dtype\": \"number\",\n        \"std\": 530.1860666549646,\n        \"min\": 0.0,\n        \"max\": 1500.0,\n        \"num_unique_values\": 5,\n        \"samples\": [\n          0.37133333333333335,\n          1.0,\n          0.48332248306624537\n        ],\n        \"semantic_type\": \"\",\n        \"description\": \"\"\n      }\n    }\n  ]\n}"
            }
          },
          "metadata": {},
          "execution_count": 5
        }
      ]
    },
    {
      "cell_type": "code",
      "source": [
        "can.shape"
      ],
      "metadata": {
        "colab": {
          "base_uri": "https://localhost:8080/"
        },
        "id": "1c7yichBZGHR",
        "outputId": "45dad9a1-eedd-413c-c85b-d1662ae074bb"
      },
      "execution_count": 6,
      "outputs": [
        {
          "output_type": "execute_result",
          "data": {
            "text/plain": [
              "(1500, 9)"
            ]
          },
          "metadata": {},
          "execution_count": 6
        }
      ]
    },
    {
      "cell_type": "code",
      "source": [
        "can.isnull().sum()"
      ],
      "metadata": {
        "colab": {
          "base_uri": "https://localhost:8080/",
          "height": 366
        },
        "id": "wLwob8veZHGF",
        "outputId": "69125556-ac62-452d-dc59-ee62b38e7a7e"
      },
      "execution_count": 7,
      "outputs": [
        {
          "output_type": "execute_result",
          "data": {
            "text/plain": [
              "Age                 0\n",
              "Gender              0\n",
              "BMI                 0\n",
              "Smoking             0\n",
              "GeneticRisk         0\n",
              "PhysicalActivity    0\n",
              "AlcoholIntake       0\n",
              "CancerHistory       0\n",
              "Diagnosis           0\n",
              "dtype: int64"
            ],
            "text/html": [
              "<div>\n",
              "<style scoped>\n",
              "    .dataframe tbody tr th:only-of-type {\n",
              "        vertical-align: middle;\n",
              "    }\n",
              "\n",
              "    .dataframe tbody tr th {\n",
              "        vertical-align: top;\n",
              "    }\n",
              "\n",
              "    .dataframe thead th {\n",
              "        text-align: right;\n",
              "    }\n",
              "</style>\n",
              "<table border=\"1\" class=\"dataframe\">\n",
              "  <thead>\n",
              "    <tr style=\"text-align: right;\">\n",
              "      <th></th>\n",
              "      <th>0</th>\n",
              "    </tr>\n",
              "  </thead>\n",
              "  <tbody>\n",
              "    <tr>\n",
              "      <th>Age</th>\n",
              "      <td>0</td>\n",
              "    </tr>\n",
              "    <tr>\n",
              "      <th>Gender</th>\n",
              "      <td>0</td>\n",
              "    </tr>\n",
              "    <tr>\n",
              "      <th>BMI</th>\n",
              "      <td>0</td>\n",
              "    </tr>\n",
              "    <tr>\n",
              "      <th>Smoking</th>\n",
              "      <td>0</td>\n",
              "    </tr>\n",
              "    <tr>\n",
              "      <th>GeneticRisk</th>\n",
              "      <td>0</td>\n",
              "    </tr>\n",
              "    <tr>\n",
              "      <th>PhysicalActivity</th>\n",
              "      <td>0</td>\n",
              "    </tr>\n",
              "    <tr>\n",
              "      <th>AlcoholIntake</th>\n",
              "      <td>0</td>\n",
              "    </tr>\n",
              "    <tr>\n",
              "      <th>CancerHistory</th>\n",
              "      <td>0</td>\n",
              "    </tr>\n",
              "    <tr>\n",
              "      <th>Diagnosis</th>\n",
              "      <td>0</td>\n",
              "    </tr>\n",
              "  </tbody>\n",
              "</table>\n",
              "</div><br><label><b>dtype:</b> int64</label>"
            ]
          },
          "metadata": {},
          "execution_count": 7
        }
      ]
    },
    {
      "cell_type": "code",
      "source": [
        "can.duplicated().sum()"
      ],
      "metadata": {
        "colab": {
          "base_uri": "https://localhost:8080/"
        },
        "id": "3QIYlm4IZIiz",
        "outputId": "cea9ad14-f79e-4a0e-8e9f-80692d29be19"
      },
      "execution_count": 8,
      "outputs": [
        {
          "output_type": "execute_result",
          "data": {
            "text/plain": [
              "np.int64(0)"
            ]
          },
          "metadata": {},
          "execution_count": 8
        }
      ]
    },
    {
      "cell_type": "code",
      "source": [
        "can.drop_duplicates(inplace=True)"
      ],
      "metadata": {
        "id": "YyWJp-nbZKEg"
      },
      "execution_count": 9,
      "outputs": []
    },
    {
      "cell_type": "code",
      "source": [
        "cann = can.select_dtypes(exclude='object')\n",
        "canc = can.select_dtypes(include='object')\n"
      ],
      "metadata": {
        "id": "UHrS-QqaZM83"
      },
      "execution_count": 10,
      "outputs": []
    },
    {
      "cell_type": "code",
      "source": [
        "cann.columns"
      ],
      "metadata": {
        "colab": {
          "base_uri": "https://localhost:8080/"
        },
        "id": "zV13J5NTZXud",
        "outputId": "b88ce475-db8e-40e2-c12d-1c943f21273e"
      },
      "execution_count": 11,
      "outputs": [
        {
          "output_type": "execute_result",
          "data": {
            "text/plain": [
              "Index(['Age', 'Gender', 'BMI', 'Smoking', 'GeneticRisk', 'PhysicalActivity',\n",
              "       'AlcoholIntake', 'CancerHistory', 'Diagnosis'],\n",
              "      dtype='object')"
            ]
          },
          "metadata": {},
          "execution_count": 11
        }
      ]
    },
    {
      "cell_type": "code",
      "source": [
        "canc.columns"
      ],
      "metadata": {
        "colab": {
          "base_uri": "https://localhost:8080/"
        },
        "id": "TaDubPSUZYqe",
        "outputId": "3d631a2c-7d90-4c9f-a615-fe8ab0d38cb3"
      },
      "execution_count": 12,
      "outputs": [
        {
          "output_type": "execute_result",
          "data": {
            "text/plain": [
              "Index([], dtype='object')"
            ]
          },
          "metadata": {},
          "execution_count": 12
        }
      ]
    },
    {
      "cell_type": "code",
      "source": [
        "sns.histplot(x='Age', hue='CancerHistory', data=can)"
      ],
      "metadata": {
        "colab": {
          "base_uri": "https://localhost:8080/",
          "height": 466
        },
        "id": "qknmc3leZaL1",
        "outputId": "a81bf562-64d1-4d81-f610-44a465345ffd"
      },
      "execution_count": 13,
      "outputs": [
        {
          "output_type": "execute_result",
          "data": {
            "text/plain": [
              "<Axes: xlabel='Age', ylabel='Count'>"
            ]
          },
          "metadata": {},
          "execution_count": 13
        },
        {
          "output_type": "display_data",
          "data": {
            "text/plain": [
              "<Figure size 640x480 with 1 Axes>"
            ],
            "image/png": "[encoded data removed]"
          },
          "metadata": {}
        }
      ]
    },
    {
      "cell_type": "code",
      "source": [
        "sns.histplot(x='BMI', hue='CancerHistory', data=can)"
      ],
      "metadata": {
        "colab": {
          "base_uri": "https://localhost:8080/",
          "height": 466
        },
        "id": "11OsLBY0Zj8q",
        "outputId": "25a350de-a22d-4b2a-8bc9-74c3acd509e5"
      },
      "execution_count": 14,
      "outputs": [
        {
          "output_type": "execute_result",
          "data": {
            "text/plain": [
              "<Axes: xlabel='BMI', ylabel='Count'>"
            ]
          },
          "metadata": {},
          "execution_count": 14
        },
        {
          "output_type": "display_data",
          "data": {
            "text/plain": [
              "<Figure size 640x480 with 1 Axes>"
            ],
            "image/png": "[encoded data removed]"
          },
          "metadata": {}
        }
      ]
    },
    {
      "cell_type": "code",
      "source": [
        "can.columns"
      ],
      "metadata": {
        "colab": {
          "base_uri": "https://localhost:8080/"
        },
        "id": "kti3SR0vZnnj",
        "outputId": "693b88b1-b136-4b91-9f09-3b08c9e73409"
      },
      "execution_count": 21,
      "outputs": [
        {
          "output_type": "execute_result",
          "data": {
            "text/plain": [
              "Index(['Age', 'Gender', 'BMI', 'Smoking', 'GeneticRisk', 'PhysicalActivity',\n",
              "       'AlcoholIntake', 'CancerHistory', 'Diagnosis'],\n",
              "      dtype='object')"
            ]
          },
          "metadata": {},
          "execution_count": 21
        }
      ]
    },
    {
      "cell_type": "code",
      "source": [
        "# alcohol intake vs cancer\n",
        "\n",
        "sns.histplot(x='AlcoholIntake', hue='CancerHistory', data=can)"
      ],
      "metadata": {
        "colab": {
          "base_uri": "https://localhost:8080/",
          "height": 466
        },
        "id": "TA7YNclWZskl",
        "outputId": "69e21f9b-9081-421b-f71e-646b5206c7c2"
      },
      "execution_count": 22,
      "outputs": [
        {
          "output_type": "execute_result",
          "data": {
            "text/plain": [
              "<Axes: xlabel='AlcoholIntake', ylabel='Count'>"
            ]
          },
          "metadata": {},
          "execution_count": 22
        },
        {
          "output_type": "display_data",
          "data": {
            "text/plain": [
              "<Figure size 640x480 with 1 Axes>"
            ],
            "image/png": "[encoded data removed]"
          },
          "metadata": {}
        }
      ]
    },
    {
      "cell_type": "code",
      "source": [
        "sns.histplot(x='GeneticRisk', hue='CancerHistory', data=can)"
      ],
      "metadata": {
        "colab": {
          "base_uri": "https://localhost:8080/",
          "height": 469
        },
        "id": "LgsIRJ13aIbm",
        "outputId": "f40a5b3b-2249-41ae-e71b-4c06cf60e78d"
      },
      "execution_count": 23,
      "outputs": [
        {
          "output_type": "execute_result",
          "data": {
            "text/plain": [
              "<Axes: xlabel='GeneticRisk', ylabel='Count'>"
            ]
          },
          "metadata": {},
          "execution_count": 23
        },
        {
          "output_type": "display_data",
          "data": {
            "text/plain": [
              "<Figure size 640x480 with 1 Axes>"
            ],
            "image/png": "[encoded data removed]"
          },
          "metadata": {}
        }
      ]
    },
    {
      "cell_type": "code",
      "source": [
        "gen = can['GeneticRisk'].value_counts()\n",
        "gen.plot(kind='pie', autopct='%1.1f%%', figsize=(10,10))"
      ],
      "metadata": {
        "colab": {
          "base_uri": "https://localhost:8080/",
          "height": 817
        },
        "id": "4Y9-ARy3aNVf",
        "outputId": "187c8b61-7e07-4eb0-9019-bd76f3fbaf05"
      },
      "execution_count": 25,
      "outputs": [
        {
          "output_type": "execute_result",
          "data": {
            "text/plain": [
              "<Axes: ylabel='count'>"
            ]
          },
          "metadata": {},
          "execution_count": 25
        },
        {
          "output_type": "display_data",
          "data": {
            "text/plain": [
              "<Figure size 1000x1000 with 1 Axes>"
            ],
            "image/png": "[encoded data removed]"
          },
          "metadata": {}
        }
      ]
    },
    {
      "cell_type": "code",
      "source": [
        "# physical activity and bmi grouped to cancer history\n",
        "\n",
        "pmc = can.groupby(['BMI', 'PhysicalActivity'])['CancerHistory'].mean()\n",
        "pmc"
      ],
      "metadata": {
        "colab": {
          "base_uri": "https://localhost:8080/",
          "height": 489
        },
        "id": "xHIDSKZGaTd0",
        "outputId": "d317da12-bb95-4a37-d5b0-3c758b890b0d"
      },
      "execution_count": 26,
      "outputs": [
        {
          "output_type": "execute_result",
          "data": {
            "text/plain": [
              "BMI        PhysicalActivity\n",
              "15.000291  5.724077            0.0\n",
              "15.003367  2.616714            0.0\n",
              "15.033841  1.474539            1.0\n",
              "15.036846  4.466887            0.0\n",
              "15.039128  2.135375            0.0\n",
              "                              ... \n",
              "39.885938  8.618438            0.0\n",
              "39.908358  8.565720            0.0\n",
              "39.917421  9.859342            1.0\n",
              "39.945521  1.522282            0.0\n",
              "39.958688  9.066533            1.0\n",
              "Name: CancerHistory, Length: 1500, dtype: float64"
            ],
            "text/html": [
              "<div>\n",
              "<style scoped>\n",
              "    .dataframe tbody tr th:only-of-type {\n",
              "        vertical-align: middle;\n",
              "    }\n",
              "\n",
              "    .dataframe tbody tr th {\n",
              "        vertical-align: top;\n",
              "    }\n",
              "\n",
              "    .dataframe thead th {\n",
              "        text-align: right;\n",
              "    }\n",
              "</style>\n",
              "<table border=\"1\" class=\"dataframe\">\n",
              "  <thead>\n",
              "    <tr style=\"text-align: right;\">\n",
              "      <th></th>\n",
              "      <th></th>\n",
              "      <th>CancerHistory</th>\n",
              "    </tr>\n",
              "    <tr>\n",
              "      <th>BMI</th>\n",
              "      <th>PhysicalActivity</th>\n",
              "      <th></th>\n",
              "    </tr>\n",
              "  </thead>\n",
              "  <tbody>\n",
              "    <tr>\n",
              "      <th>15.000291</th>\n",
              "      <th>5.724077</th>\n",
              "      <td>0.0</td>\n",
              "    </tr>\n",
              "    <tr>\n",
              "      <th>15.003367</th>\n",
              "      <th>2.616714</th>\n",
              "      <td>0.0</td>\n",
              "    </tr>\n",
              "    <tr>\n",
              "      <th>15.033841</th>\n",
              "      <th>1.474539</th>\n",
              "      <td>1.0</td>\n",
              "    </tr>\n",
              "    <tr>\n",
              "      <th>15.036846</th>\n",
              "      <th>4.466887</th>\n",
              "      <td>0.0</td>\n",
              "    </tr>\n",
              "    <tr>\n",
              "      <th>15.039128</th>\n",
              "      <th>2.135375</th>\n",
              "      <td>0.0</td>\n",
              "    </tr>\n",
              "    <tr>\n",
              "      <th>...</th>\n",
              "      <th>...</th>\n",
              "      <td>...</td>\n",
              "    </tr>\n",
              "    <tr>\n",
              "      <th>39.885938</th>\n",
              "      <th>8.618438</th>\n",
              "      <td>0.0</td>\n",
              "    </tr>\n",
              "    <tr>\n",
              "      <th>39.908358</th>\n",
              "      <th>8.565720</th>\n",
              "      <td>0.0</td>\n",
              "    </tr>\n",
              "    <tr>\n",
              "      <th>39.917421</th>\n",
              "      <th>9.859342</th>\n",
              "      <td>1.0</td>\n",
              "    </tr>\n",
              "    <tr>\n",
              "      <th>39.945521</th>\n",
              "      <th>1.522282</th>\n",
              "      <td>0.0</td>\n",
              "    </tr>\n",
              "    <tr>\n",
              "      <th>39.958688</th>\n",
              "      <th>9.066533</th>\n",
              "      <td>1.0</td>\n",
              "    </tr>\n",
              "  </tbody>\n",
              "</table>\n",
              "<p>1500 rows × 1 columns</p>\n",
              "</div><br><label><b>dtype:</b> float64</label>"
            ]
          },
          "metadata": {},
          "execution_count": 26
        }
      ]
    },
    {
      "cell_type": "code",
      "source": [
        "corr_matrix = can.corr()\n",
        "corr_matrix.style.background_gradient(cmap='coolwarm')"
      ],
      "metadata": {
        "colab": {
          "base_uri": "https://localhost:8080/",
          "height": 351
        },
        "id": "aOcglk7maq_v",
        "outputId": "9f5000a8-0c2f-4c65-c538-2d366c9e4786"
      },
      "execution_count": 28,
      "outputs": [
        {
          "output_type": "execute_result",
          "data": {
            "text/plain": [
              "<pandas.io.formats.style.Styler at 0x7b998f435790>"
            ],
            "text/html": [
              "<style type=\"text/css\">\n",
              "#T_df9d2_row0_col0, #T_df9d2_row1_col1, #T_df9d2_row2_col2, #T_df9d2_row3_col3, #T_df9d2_row4_col4, #T_df9d2_row5_col5, #T_df9d2_row6_col6, #T_df9d2_row7_col7, #T_df9d2_row8_col8 {\n",
              "  background-color: #b40426;\n",
              "  color: #f1f1f1;\n",
              "}\n",
              "#T_df9d2_row0_col1, #T_df9d2_row1_col7, #T_df9d2_row3_col4, #T_df9d2_row6_col2 {\n",
              "  background-color: #3f53c6;\n",
              "  color: #f1f1f1;\n",
              "}\n",
              "#T_df9d2_row0_col2, #T_df9d2_row5_col0, #T_df9d2_row6_col3 {\n",
              "  background-color: #465ecf;\n",
              "  color: #f1f1f1;\n",
              "}\n",
              "#T_df9d2_row0_col3, #T_df9d2_row2_col3, #T_df9d2_row5_col7, #T_df9d2_row6_col0, #T_df9d2_row7_col4 {\n",
              "  background-color: #4358cb;\n",
              "  color: #f1f1f1;\n",
              "}\n",
              "#T_df9d2_row0_col4, #T_df9d2_row3_col0, #T_df9d2_row3_col6, #T_df9d2_row7_col0 {\n",
              "  background-color: #3e51c5;\n",
              "  color: #f1f1f1;\n",
              "}\n",
              "#T_df9d2_row0_col5, #T_df9d2_row7_col5 {\n",
              "  background-color: #688aef;\n",
              "  color: #f1f1f1;\n",
              "}\n",
              "#T_df9d2_row0_col6, #T_df9d2_row2_col6, #T_df9d2_row4_col3, #T_df9d2_row6_col1, #T_df9d2_row6_col4, #T_df9d2_row7_col1 {\n",
              "  background-color: #4055c8;\n",
              "  color: #f1f1f1;\n",
              "}\n",
              "#T_df9d2_row0_col7, #T_df9d2_row1_col2, #T_df9d2_row2_col1, #T_df9d2_row2_col7, #T_df9d2_row3_col2, #T_df9d2_row4_col0, #T_df9d2_row4_col6, #T_df9d2_row4_col7, #T_df9d2_row5_col3, #T_df9d2_row5_col4, #T_df9d2_row5_col8, #T_df9d2_row7_col2, #T_df9d2_row8_col5 {\n",
              "  background-color: #3b4cc0;\n",
              "  color: #f1f1f1;\n",
              "}\n",
              "#T_df9d2_row0_col8 {\n",
              "  background-color: #9fbfff;\n",
              "  color: #000000;\n",
              "}\n",
              "#T_df9d2_row1_col0, #T_df9d2_row1_col4 {\n",
              "  background-color: #445acc;\n",
              "  color: #f1f1f1;\n",
              "}\n",
              "#T_df9d2_row1_col3 {\n",
              "  background-color: #516ddb;\n",
              "  color: #f1f1f1;\n",
              "}\n",
              "#T_df9d2_row1_col5 {\n",
              "  background-color: #6a8bef;\n",
              "  color: #f1f1f1;\n",
              "}\n",
              "#T_df9d2_row1_col6, #T_df9d2_row3_col7, #T_df9d2_row4_col2, #T_df9d2_row5_col2 {\n",
              "  background-color: #4257c9;\n",
              "  color: #f1f1f1;\n",
              "}\n",
              "#T_df9d2_row1_col8, #T_df9d2_row4_col8 {\n",
              "  background-color: #afcafc;\n",
              "  color: #000000;\n",
              "}\n",
              "#T_df9d2_row2_col0, #T_df9d2_row7_col3 {\n",
              "  background-color: #4b64d5;\n",
              "  color: #f1f1f1;\n",
              "}\n",
              "#T_df9d2_row2_col4, #T_df9d2_row3_col1, #T_df9d2_row5_col6 {\n",
              "  background-color: #4961d2;\n",
              "  color: #f1f1f1;\n",
              "}\n",
              "#T_df9d2_row2_col5 {\n",
              "  background-color: #6687ed;\n",
              "  color: #f1f1f1;\n",
              "}\n",
              "#T_df9d2_row2_col8 {\n",
              "  background-color: #9dbdff;\n",
              "  color: #000000;\n",
              "}\n",
              "#T_df9d2_row3_col5 {\n",
              "  background-color: #5673e0;\n",
              "  color: #f1f1f1;\n",
              "}\n",
              "#T_df9d2_row3_col8 {\n",
              "  background-color: #a7c5fe;\n",
              "  color: #000000;\n",
              "}\n",
              "#T_df9d2_row4_col1 {\n",
              "  background-color: #3c4ec2;\n",
              "  color: #f1f1f1;\n",
              "}\n",
              "#T_df9d2_row4_col5 {\n",
              "  background-color: #5875e1;\n",
              "  color: #f1f1f1;\n",
              "}\n",
              "#T_df9d2_row5_col1 {\n",
              "  background-color: #455cce;\n",
              "  color: #f1f1f1;\n",
              "}\n",
              "#T_df9d2_row6_col5 {\n",
              "  background-color: #6c8ff1;\n",
              "  color: #f1f1f1;\n",
              "}\n",
              "#T_df9d2_row6_col7 {\n",
              "  background-color: #4e68d8;\n",
              "  color: #f1f1f1;\n",
              "}\n",
              "#T_df9d2_row6_col8 {\n",
              "  background-color: #a3c2fe;\n",
              "  color: #000000;\n",
              "}\n",
              "#T_df9d2_row7_col6 {\n",
              "  background-color: #506bda;\n",
              "  color: #f1f1f1;\n",
              "}\n",
              "#T_df9d2_row7_col8 {\n",
              "  background-color: #d5dbe5;\n",
              "  color: #000000;\n",
              "}\n",
              "#T_df9d2_row8_col0 {\n",
              "  background-color: #81a4fb;\n",
              "  color: #f1f1f1;\n",
              "}\n",
              "#T_df9d2_row8_col1, #T_df9d2_row8_col3 {\n",
              "  background-color: #90b2fe;\n",
              "  color: #000000;\n",
              "}\n",
              "#T_df9d2_row8_col2 {\n",
              "  background-color: #7a9df8;\n",
              "  color: #f1f1f1;\n",
              "}\n",
              "#T_df9d2_row8_col4 {\n",
              "  background-color: #98b9ff;\n",
              "  color: #000000;\n",
              "}\n",
              "#T_df9d2_row8_col6 {\n",
              "  background-color: #84a7fc;\n",
              "  color: #f1f1f1;\n",
              "}\n",
              "#T_df9d2_row8_col7 {\n",
              "  background-color: #c0d4f5;\n",
              "  color: #000000;\n",
              "}\n",
              "</style>\n",
              "<table id=\"T_df9d2\" class=\"dataframe\">\n",
              "  <thead>\n",
              "    <tr>\n",
              "      <th class=\"blank level0\" >&nbsp;</th>\n",
              "      <th id=\"T_df9d2_level0_col0\" class=\"col_heading level0 col0\" >Age</th>\n",
              "      <th id=\"T_df9d2_level0_col1\" class=\"col_heading level0 col1\" >Gender</th>\n",
              "      <th id=\"T_df9d2_level0_col2\" class=\"col_heading level0 col2\" >BMI</th>\n",
              "      <th id=\"T_df9d2_level0_col3\" class=\"col_heading level0 col3\" >Smoking</th>\n",
              "      <th id=\"T_df9d2_level0_col4\" class=\"col_heading level0 col4\" >GeneticRisk</th>\n",
              "      <th id=\"T_df9d2_level0_col5\" class=\"col_heading level0 col5\" >PhysicalActivity</th>\n",
              "      <th id=\"T_df9d2_level0_col6\" class=\"col_heading level0 col6\" >AlcoholIntake</th>\n",
              "      <th id=\"T_df9d2_level0_col7\" class=\"col_heading level0 col7\" >CancerHistory</th>\n",
              "      <th id=\"T_df9d2_level0_col8\" class=\"col_heading level0 col8\" >Diagnosis</th>\n",
              "    </tr>\n",
              "  </thead>\n",
              "  <tbody>\n",
              "    <tr>\n",
              "      <th id=\"T_df9d2_level0_row0\" class=\"row_heading level0 row0\" >Age</th>\n",
              "      <td id=\"T_df9d2_row0_col0\" class=\"data row0 col0\" >1.000000</td>\n",
              "      <td id=\"T_df9d2_row0_col1\" class=\"data row0 col1\" >0.007145</td>\n",
              "      <td id=\"T_df9d2_row0_col2\" class=\"data row0 col2\" >0.030246</td>\n",
              "      <td id=\"T_df9d2_row0_col3\" class=\"data row0 col3\" >-0.013914</td>\n",
              "      <td id=\"T_df9d2_row0_col4\" class=\"data row0 col4\" >-0.027025</td>\n",
              "      <td id=\"T_df9d2_row0_col5\" class=\"data row0 col5\" >0.016396</td>\n",
              "      <td id=\"T_df9d2_row0_col6\" class=\"data row0 col6\" >0.003209</td>\n",
              "      <td id=\"T_df9d2_row0_col7\" class=\"data row0 col7\" >-0.010996</td>\n",
              "      <td id=\"T_df9d2_row0_col8\" class=\"data row0 col8\" >0.196603</td>\n",
              "    </tr>\n",
              "    <tr>\n",
              "      <th id=\"T_df9d2_level0_row1\" class=\"row_heading level0 row1\" >Gender</th>\n",
              "      <td id=\"T_df9d2_row1_col0\" class=\"data row1 col0\" >0.007145</td>\n",
              "      <td id=\"T_df9d2_row1_col1\" class=\"data row1 col1\" >1.000000</td>\n",
              "      <td id=\"T_df9d2_row1_col2\" class=\"data row1 col2\" >-0.012516</td>\n",
              "      <td id=\"T_df9d2_row1_col3\" class=\"data row1 col3\" >0.035384</td>\n",
              "      <td id=\"T_df9d2_row1_col4\" class=\"data row1 col4\" >-0.004674</td>\n",
              "      <td id=\"T_df9d2_row1_col5\" class=\"data row1 col5\" >0.023401</td>\n",
              "      <td id=\"T_df9d2_row1_col6\" class=\"data row1 col6\" >0.009723</td>\n",
              "      <td id=\"T_df9d2_row1_col7\" class=\"data row1 col7\" >0.007657</td>\n",
              "      <td id=\"T_df9d2_row1_col8\" class=\"data row1 col8\" >0.250336</td>\n",
              "    </tr>\n",
              "    <tr>\n",
              "      <th id=\"T_df9d2_level0_row2\" class=\"row_heading level0 row2\" >BMI</th>\n",
              "      <td id=\"T_df9d2_row2_col0\" class=\"data row2 col0\" >0.030246</td>\n",
              "      <td id=\"T_df9d2_row2_col1\" class=\"data row2 col1\" >-0.012516</td>\n",
              "      <td id=\"T_df9d2_row2_col2\" class=\"data row2 col2\" >1.000000</td>\n",
              "      <td id=\"T_df9d2_row2_col3\" class=\"data row2 col3\" >-0.012616</td>\n",
              "      <td id=\"T_df9d2_row2_col4\" class=\"data row2 col4\" >0.011392</td>\n",
              "      <td id=\"T_df9d2_row2_col5\" class=\"data row2 col5\" >0.011480</td>\n",
              "      <td id=\"T_df9d2_row2_col6\" class=\"data row2 col6\" >0.004711</td>\n",
              "      <td id=\"T_df9d2_row2_col7\" class=\"data row2 col7\" >-0.010824</td>\n",
              "      <td id=\"T_df9d2_row2_col8\" class=\"data row2 col8\" >0.187560</td>\n",
              "    </tr>\n",
              "    <tr>\n",
              "      <th id=\"T_df9d2_level0_row3\" class=\"row_heading level0 row3\" >Smoking</th>\n",
              "      <td id=\"T_df9d2_row3_col0\" class=\"data row3 col0\" >-0.013914</td>\n",
              "      <td id=\"T_df9d2_row3_col1\" class=\"data row3 col1\" >0.035384</td>\n",
              "      <td id=\"T_df9d2_row3_col2\" class=\"data row3 col2\" >-0.012616</td>\n",
              "      <td id=\"T_df9d2_row3_col3\" class=\"data row3 col3\" >1.000000</td>\n",
              "      <td id=\"T_df9d2_row3_col4\" class=\"data row3 col4\" >-0.021039</td>\n",
              "      <td id=\"T_df9d2_row3_col5\" class=\"data row3 col5\" >-0.043817</td>\n",
              "      <td id=\"T_df9d2_row3_col6\" class=\"data row3 col6\" >-0.001660</td>\n",
              "      <td id=\"T_df9d2_row3_col7\" class=\"data row3 col7\" >0.016368</td>\n",
              "      <td id=\"T_df9d2_row3_col8\" class=\"data row3 col8\" >0.226999</td>\n",
              "    </tr>\n",
              "    <tr>\n",
              "      <th id=\"T_df9d2_level0_row4\" class=\"row_heading level0 row4\" >GeneticRisk</th>\n",
              "      <td id=\"T_df9d2_row4_col0\" class=\"data row4 col0\" >-0.027025</td>\n",
              "      <td id=\"T_df9d2_row4_col1\" class=\"data row4 col1\" >-0.004674</td>\n",
              "      <td id=\"T_df9d2_row4_col2\" class=\"data row4 col2\" >0.011392</td>\n",
              "      <td id=\"T_df9d2_row4_col3\" class=\"data row4 col3\" >-0.021039</td>\n",
              "      <td id=\"T_df9d2_row4_col4\" class=\"data row4 col4\" >1.000000</td>\n",
              "      <td id=\"T_df9d2_row4_col5\" class=\"data row4 col5\" >-0.039721</td>\n",
              "      <td id=\"T_df9d2_row4_col6\" class=\"data row4 col6\" >-0.016864</td>\n",
              "      <td id=\"T_df9d2_row4_col7\" class=\"data row4 col7\" >-0.010833</td>\n",
              "      <td id=\"T_df9d2_row4_col8\" class=\"data row4 col8\" >0.253472</td>\n",
              "    </tr>\n",
              "    <tr>\n",
              "      <th id=\"T_df9d2_level0_row5\" class=\"row_heading level0 row5\" >PhysicalActivity</th>\n",
              "      <td id=\"T_df9d2_row5_col0\" class=\"data row5 col0\" >0.016396</td>\n",
              "      <td id=\"T_df9d2_row5_col1\" class=\"data row5 col1\" >0.023401</td>\n",
              "      <td id=\"T_df9d2_row5_col2\" class=\"data row5 col2\" >0.011480</td>\n",
              "      <td id=\"T_df9d2_row5_col3\" class=\"data row5 col3\" >-0.043817</td>\n",
              "      <td id=\"T_df9d2_row5_col4\" class=\"data row5 col4\" >-0.039721</td>\n",
              "      <td id=\"T_df9d2_row5_col5\" class=\"data row5 col5\" >1.000000</td>\n",
              "      <td id=\"T_df9d2_row5_col6\" class=\"data row5 col6\" >0.033856</td>\n",
              "      <td id=\"T_df9d2_row5_col7\" class=\"data row5 col7\" >0.018136</td>\n",
              "      <td id=\"T_df9d2_row5_col8\" class=\"data row5 col8\" >-0.150089</td>\n",
              "    </tr>\n",
              "    <tr>\n",
              "      <th id=\"T_df9d2_level0_row6\" class=\"row_heading level0 row6\" >AlcoholIntake</th>\n",
              "      <td id=\"T_df9d2_row6_col0\" class=\"data row6 col0\" >0.003209</td>\n",
              "      <td id=\"T_df9d2_row6_col1\" class=\"data row6 col1\" >0.009723</td>\n",
              "      <td id=\"T_df9d2_row6_col2\" class=\"data row6 col2\" >0.004711</td>\n",
              "      <td id=\"T_df9d2_row6_col3\" class=\"data row6 col3\" >-0.001660</td>\n",
              "      <td id=\"T_df9d2_row6_col4\" class=\"data row6 col4\" >-0.016864</td>\n",
              "      <td id=\"T_df9d2_row6_col5\" class=\"data row6 col5\" >0.033856</td>\n",
              "      <td id=\"T_df9d2_row6_col6\" class=\"data row6 col6\" >1.000000</td>\n",
              "      <td id=\"T_df9d2_row6_col7\" class=\"data row6 col7\" >0.055403</td>\n",
              "      <td id=\"T_df9d2_row6_col8\" class=\"data row6 col8\" >0.212772</td>\n",
              "    </tr>\n",
              "    <tr>\n",
              "      <th id=\"T_df9d2_level0_row7\" class=\"row_heading level0 row7\" >CancerHistory</th>\n",
              "      <td id=\"T_df9d2_row7_col0\" class=\"data row7 col0\" >-0.010996</td>\n",
              "      <td id=\"T_df9d2_row7_col1\" class=\"data row7 col1\" >0.007657</td>\n",
              "      <td id=\"T_df9d2_row7_col2\" class=\"data row7 col2\" >-0.010824</td>\n",
              "      <td id=\"T_df9d2_row7_col3\" class=\"data row7 col3\" >0.016368</td>\n",
              "      <td id=\"T_df9d2_row7_col4\" class=\"data row7 col4\" >-0.010833</td>\n",
              "      <td id=\"T_df9d2_row7_col5\" class=\"data row7 col5\" >0.018136</td>\n",
              "      <td id=\"T_df9d2_row7_col6\" class=\"data row7 col6\" >0.055403</td>\n",
              "      <td id=\"T_df9d2_row7_col7\" class=\"data row7 col7\" >1.000000</td>\n",
              "      <td id=\"T_df9d2_row7_col8\" class=\"data row7 col8\" >0.392188</td>\n",
              "    </tr>\n",
              "    <tr>\n",
              "      <th id=\"T_df9d2_level0_row8\" class=\"row_heading level0 row8\" >Diagnosis</th>\n",
              "      <td id=\"T_df9d2_row8_col0\" class=\"data row8 col0\" >0.196603</td>\n",
              "      <td id=\"T_df9d2_row8_col1\" class=\"data row8 col1\" >0.250336</td>\n",
              "      <td id=\"T_df9d2_row8_col2\" class=\"data row8 col2\" >0.187560</td>\n",
              "      <td id=\"T_df9d2_row8_col3\" class=\"data row8 col3\" >0.226999</td>\n",
              "      <td id=\"T_df9d2_row8_col4\" class=\"data row8 col4\" >0.253472</td>\n",
              "      <td id=\"T_df9d2_row8_col5\" class=\"data row8 col5\" >-0.150089</td>\n",
              "      <td id=\"T_df9d2_row8_col6\" class=\"data row8 col6\" >0.212772</td>\n",
              "      <td id=\"T_df9d2_row8_col7\" class=\"data row8 col7\" >0.392188</td>\n",
              "      <td id=\"T_df9d2_row8_col8\" class=\"data row8 col8\" >1.000000</td>\n",
              "    </tr>\n",
              "  </tbody>\n",
              "</table>\n"
            ]
          },
          "metadata": {},
          "execution_count": 28
        }
      ]
    },
    {
      "cell_type": "code",
      "source": [
        "sns.heatmap(can.corr(), annot=True, cmap='Blues')"
      ],
      "metadata": {
        "colab": {
          "base_uri": "https://localhost:8080/",
          "height": 547
        },
        "id": "mzN1jLPWatQx",
        "outputId": "f6794606-aff9-4dde-9e09-7087f4cd33d6"
      },
      "execution_count": 30,
      "outputs": [
        {
          "output_type": "execute_result",
          "data": {
            "text/plain": [
              "<Axes: >"
            ]
          },
          "metadata": {},
          "execution_count": 30
        },
        {
          "output_type": "display_data",
          "data": {
            "text/plain": [
              "<Figure size 640x480 with 2 Axes>"
            ],
            "image/png": "[encoded data removed]"
          },
          "metadata": {}
        }
      ]
    },
    {
      "cell_type": "code",
      "source": [
        "can['CancerHistory'].value_counts()"
      ],
      "metadata": {
        "colab": {
          "base_uri": "https://localhost:8080/",
          "height": 178
        },
        "id": "XEdBf5h5a8Zf",
        "outputId": "1677203e-9ec8-4ddf-92f8-1f7c884e84f8"
      },
      "execution_count": 31,
      "outputs": [
        {
          "output_type": "execute_result",
          "data": {
            "text/plain": [
              "CancerHistory\n",
              "0    1284\n",
              "1     216\n",
              "Name: count, dtype: int64"
            ],
            "text/html": [
              "<div>\n",
              "<style scoped>\n",
              "    .dataframe tbody tr th:only-of-type {\n",
              "        vertical-align: middle;\n",
              "    }\n",
              "\n",
              "    .dataframe tbody tr th {\n",
              "        vertical-align: top;\n",
              "    }\n",
              "\n",
              "    .dataframe thead th {\n",
              "        text-align: right;\n",
              "    }\n",
              "</style>\n",
              "<table border=\"1\" class=\"dataframe\">\n",
              "  <thead>\n",
              "    <tr style=\"text-align: right;\">\n",
              "      <th></th>\n",
              "      <th>count</th>\n",
              "    </tr>\n",
              "    <tr>\n",
              "      <th>CancerHistory</th>\n",
              "      <th></th>\n",
              "    </tr>\n",
              "  </thead>\n",
              "  <tbody>\n",
              "    <tr>\n",
              "      <th>0</th>\n",
              "      <td>1284</td>\n",
              "    </tr>\n",
              "    <tr>\n",
              "      <th>1</th>\n",
              "      <td>216</td>\n",
              "    </tr>\n",
              "  </tbody>\n",
              "</table>\n",
              "</div><br><label><b>dtype:</b> int64</label>"
            ]
          },
          "metadata": {},
          "execution_count": 31
        }
      ]
    },
    {
      "cell_type": "code",
      "source": [
        "cancer = can[can['CancerHistory']==1]"
      ],
      "metadata": {
        "id": "sleQXiABcNcr"
      },
      "execution_count": 36,
      "outputs": []
    },
    {
      "cell_type": "code",
      "source": [
        "cancer['AlcoholIntake'].plot(kind='hist')\n"
      ],
      "metadata": {
        "colab": {
          "base_uri": "https://localhost:8080/",
          "height": 447
        },
        "id": "3ILjaH79cRv_",
        "outputId": "f42d480b-6ba6-4f44-abbe-c369104827b6"
      },
      "execution_count": 37,
      "outputs": [
        {
          "output_type": "execute_result",
          "data": {
            "text/plain": [
              "<Axes: ylabel='Frequency'>"
            ]
          },
          "metadata": {},
          "execution_count": 37
        },
        {
          "output_type": "display_data",
          "data": {
            "text/plain": [
              "<Figure size 640x480 with 1 Axes>"
            ],
            "image/png": "[encoded data removed]"
          },
          "metadata": {}
        }
      ]
    },
    {
      "cell_type": "code",
      "source": [
        "can.columns"
      ],
      "metadata": {
        "colab": {
          "base_uri": "https://localhost:8080/"
        },
        "id": "l4t9JL5vcXyI",
        "outputId": "d1f3ea9b-69d2-4ef5-93f6-590c4ccd7f6f"
      },
      "execution_count": 43,
      "outputs": [
        {
          "output_type": "execute_result",
          "data": {
            "text/plain": [
              "Index(['Age', 'Gender', 'BMI', 'Smoking', 'GeneticRisk', 'PhysicalActivity',\n",
              "       'AlcoholIntake', 'CancerHistory', 'Diagnosis'],\n",
              "      dtype='object')"
            ]
          },
          "metadata": {},
          "execution_count": 43
        }
      ]
    },
    {
      "cell_type": "code",
      "source": [
        "#cancer histOry and diagnosis\n",
        "\n",
        "sns.barplot(x='Diagnosis', y='CancerHistory', data=can, palette='rocket')"
      ],
      "metadata": {
        "colab": {
          "base_uri": "https://localhost:8080/",
          "height": 466
        },
        "id": "7cgxuu99jGtr",
        "outputId": "4a012c5a-706d-44dd-b3f6-534cd666373c"
      },
      "execution_count": 47,
      "outputs": [
        {
          "output_type": "execute_result",
          "data": {
            "text/plain": [
              "<Axes: xlabel='Diagnosis', ylabel='CancerHistory'>"
            ]
          },
          "metadata": {},
          "execution_count": 47
        },
        {
          "output_type": "display_data",
          "data": {
            "text/plain": [
              "<Figure size 640x480 with 1 Axes>"
            ],
            "image/png": "[encoded data removed]"
          },
          "metadata": {}
        }
      ]
    },
    {
      "cell_type": "code",
      "source": [],
      "metadata": {
        "id": "Bx5YuNurktKX"
      },
      "execution_count": null,
      "outputs": []
    }
  ]
}